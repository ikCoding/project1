{
 "cells": [
  {
   "cell_type": "code",
   "execution_count": 1,
   "metadata": {},
   "outputs": [],
   "source": [
    "# Step 1 - Load Data\n",
    "import pandas as pd\n",
    "dataset = pd.read_csv(\"/home/administrator/Downloads/DataSet/Position_Salaries.csv\")\n",
    "X = dataset.iloc[:, 1:2].values\n",
    "y = dataset.iloc[:, 2].values"
   ]
  },
  {
   "cell_type": "code",
   "execution_count": 2,
   "metadata": {},
   "outputs": [
    {
     "data": {
      "text/plain": [
       "LinearRegression(copy_X=True, fit_intercept=True, n_jobs=None, normalize=False)"
      ]
     },
     "execution_count": 2,
     "metadata": {},
     "output_type": "execute_result"
    }
   ],
   "source": [
    "###########################\n",
    "### Linear Regression ###\n",
    "###########################\n",
    "from sklearn.linear_model import LinearRegression\n",
    "linear_regressor = LinearRegression()\n",
    "linear_regressor.fit(X, y)"
   ]
  },
  {
   "cell_type": "code",
   "execution_count": 3,
   "metadata": {},
   "outputs": [
    {
     "name": "stdout",
     "output_type": "stream",
     "text": [
      "The predicted salary of a person at 6.5 Level with Linear Regression is  [330378.78787879]\n"
     ]
    }
   ],
   "source": [
    "# Predict\n",
    "lin_pred = linear_regressor.predict([[6.5]])\n",
    "print('The predicted salary of a person at 6.5 Level with Linear Regression is ',lin_pred)"
   ]
  },
  {
   "cell_type": "code",
   "execution_count": 4,
   "metadata": {},
   "outputs": [],
   "source": [
    "################################\n",
    "### Polynomial Regression ###\n",
    "################################\n",
    "\n",
    "# ** NOTE - conver X to X_poly of required degree\n",
    "from sklearn.preprocessing import PolynomialFeatures\n",
    "poly_features = PolynomialFeatures(degree=4)\n",
    "X_poly = poly_features.fit_transform(X)"
   ]
  },
  {
   "cell_type": "code",
   "execution_count": 5,
   "metadata": {},
   "outputs": [
    {
     "data": {
      "text/plain": [
       "LinearRegression(copy_X=True, fit_intercept=True, n_jobs=None, normalize=False)"
      ]
     },
     "execution_count": 5,
     "metadata": {},
     "output_type": "execute_result"
    }
   ],
   "source": [
    "from sklearn.linear_model import LinearRegression\n",
    "poly_regressor = LinearRegression()\n",
    "poly_regressor.fit(X_poly, y)"
   ]
  },
  {
   "cell_type": "code",
   "execution_count": 6,
   "metadata": {},
   "outputs": [
    {
     "name": "stdout",
     "output_type": "stream",
     "text": [
      "The predicted salary of a person at 6.5 Level with Polynomial Regression is  [158862.45265153]\n"
     ]
    }
   ],
   "source": [
    "# Predict - have to convert 6.5 to poly format\n",
    "poly_pred = poly_regressor.predict(poly_features.fit_transform([[6.5]]))\n",
    "print('The predicted salary of a person at 6.5 Level with Polynomial Regression is ',poly_pred)\n"
   ]
  },
  {
   "cell_type": "code",
   "execution_count": 7,
   "metadata": {},
   "outputs": [],
   "source": [
    "################################\n",
    "### SVR Regression ###\n",
    "################################\n",
    "\n",
    "# ** NOTE - SVR does not do feature scaling\n",
    "from sklearn.preprocessing import StandardScaler\n",
    "ss_x = StandardScaler()\n",
    "ss_y = StandardScaler()\n",
    "X_scaled = ss_x.fit_transform(X)\n",
    "y_scaled = ss_y.fit_transform(y.reshape(-1,1))"
   ]
  },
  {
   "cell_type": "code",
   "execution_count": 8,
   "metadata": {},
   "outputs": [
    {
     "name": "stderr",
     "output_type": "stream",
     "text": [
      "/home/administrator/anaconda3/lib/python3.7/site-packages/sklearn/utils/validation.py:724: DataConversionWarning: A column-vector y was passed when a 1d array was expected. Please change the shape of y to (n_samples, ), for example using ravel().\n",
      "  y = column_or_1d(y, warn=True)\n"
     ]
    },
    {
     "data": {
      "text/plain": [
       "SVR(C=1.0, cache_size=200, coef0=0.0, degree=3, epsilon=0.1,\n",
       "    gamma='auto_deprecated', kernel='rbf', max_iter=-1, shrinking=True,\n",
       "    tol=0.001, verbose=False)"
      ]
     },
     "execution_count": 8,
     "metadata": {},
     "output_type": "execute_result"
    }
   ],
   "source": [
    "from sklearn.svm import SVR\n",
    "svr_regressor = SVR(kernel=\"rbf\")\n",
    "svr_regressor.fit(X_scaled, y_scaled)"
   ]
  },
  {
   "cell_type": "code",
   "execution_count": 9,
   "metadata": {},
   "outputs": [
    {
     "name": "stdout",
     "output_type": "stream",
     "text": [
      "The predicted salary of a person at 6.5 Level with Support Vector Regression is  [170370.0204065]\n"
     ]
    }
   ],
   "source": [
    "# Predict - since we did feature scaling -\n",
    "# So have to scale/transform 6.5 also\n",
    "position_val = ss_x.transform([[6.5]])\n",
    "pred_val_scaled = svr_regressor.predict(position_val)\n",
    "# The above statement will return scaled predicted value\n",
    "# So have to convert that using inverse transform\n",
    "svr_pred = ss_y.inverse_transform(pred_val_scaled)\n",
    "print('The predicted salary of a person at 6.5 Level with Support Vector Regression is ',svr_pred)"
   ]
  },
  {
   "cell_type": "code",
   "execution_count": 10,
   "metadata": {},
   "outputs": [
    {
     "data": {
      "text/plain": [
       "DecisionTreeRegressor(criterion='mse', max_depth=None, max_features=None,\n",
       "                      max_leaf_nodes=None, min_impurity_decrease=0.0,\n",
       "                      min_impurity_split=None, min_samples_leaf=1,\n",
       "                      min_samples_split=2, min_weight_fraction_leaf=0.0,\n",
       "                      presort=False, random_state=None, splitter='best')"
      ]
     },
     "execution_count": 10,
     "metadata": {},
     "output_type": "execute_result"
    }
   ],
   "source": [
    "################################\n",
    "### Decision Tree Regression ###\n",
    "################################\n",
    "from sklearn.tree import DecisionTreeRegressor\n",
    "tree_regressor = DecisionTreeRegressor(criterion=\"mse\")\n",
    "tree_regressor.fit(X, y)"
   ]
  },
  {
   "cell_type": "code",
   "execution_count": 11,
   "metadata": {},
   "outputs": [
    {
     "name": "stdout",
     "output_type": "stream",
     "text": [
      "The predicted salary of a person at 6.5 Level with Decision Tree Regression is  [150000.]\n"
     ]
    }
   ],
   "source": [
    "# Predict\n",
    "tree_pred = tree_regressor.predict([[6.5]])\n",
    "print('The predicted salary of a person at 6.5 Level with Decision Tree Regression is ',tree_pred)\n"
   ]
  },
  {
   "cell_type": "code",
   "execution_count": 12,
   "metadata": {},
   "outputs": [
    {
     "data": {
      "text/plain": [
       "RandomForestRegressor(bootstrap=True, criterion='mse', max_depth=None,\n",
       "                      max_features='auto', max_leaf_nodes=None,\n",
       "                      min_impurity_decrease=0.0, min_impurity_split=None,\n",
       "                      min_samples_leaf=1, min_samples_split=2,\n",
       "                      min_weight_fraction_leaf=0.0, n_estimators=300,\n",
       "                      n_jobs=None, oob_score=False, random_state=0, verbose=0,\n",
       "                      warm_start=False)"
      ]
     },
     "execution_count": 12,
     "metadata": {},
     "output_type": "execute_result"
    }
   ],
   "source": [
    "################################\n",
    "### Random Forest Regression ###\n",
    "################################\n",
    "from sklearn.ensemble import RandomForestRegressor\n",
    "forest_regressor = RandomForestRegressor(n_estimators=300, random_state=0)\n",
    "forest_regressor.fit(X, y)"
   ]
  },
  {
   "cell_type": "code",
   "execution_count": 13,
   "metadata": {},
   "outputs": [
    {
     "name": "stdout",
     "output_type": "stream",
     "text": [
      "The predicted salary of a person at 6.5 Level with Random Forest Regression is  [160333.33333333]\n"
     ]
    }
   ],
   "source": [
    "# Predict\n",
    "forest_pred = forest_regressor.predict([[6.5]])\n",
    "print('The predicted salary of a person at 6.5 Level with Random Forest Regression is ',forest_pred)\n"
   ]
  },
  {
   "cell_type": "code",
   "execution_count": 14,
   "metadata": {},
   "outputs": [],
   "source": [
    "################################\n",
    "### Visualizations ###\n",
    "################################\n",
    "import matplotlib.pyplot as plt\n",
    "import numpy as np\n",
    "\n",
    "X_grid = np.arange(min(X), max(X), 0.01)\n",
    "X_grid = X_grid.reshape((len(X_grid),1))"
   ]
  },
  {
   "cell_type": "code",
   "execution_count": 22,
   "metadata": {},
   "outputs": [
    {
     "data": {
      "image/png": "[encoded data removed]",
      "text/plain": [
       "<Figure size 432x288 with 1 Axes>"
      ]
     },
     "metadata": {
      "needs_background": "light"
     },
     "output_type": "display_data"
    }
   ],
   "source": [
    "\n",
    "plt.scatter(X, y,color=\"red\")\n",
    "plt.plot(X_grid, linear_regressor.predict(X_grid), color=\"blue\" , label=\"Linear Regression\")\n",
    "plt.plot(X_grid, poly_regressor.predict(poly_features.fit_transform(X_grid)), color=\"green\", label=\"Polynomial Regression\")\n",
    "plt.plot(X_grid, ss_y.inverse_transform(svr_regressor.predict(ss_x.transform(X_grid))), color=\"orange\", label=\"Support Vector Regression\")\n",
    "plt.plot(X_grid, tree_regressor.predict(X_grid), color=\"black\" ,label=\"Decision Tree\")\n",
    "plt.plot(X_grid, forest_regressor.predict(X_grid), color=\"purple\",label=\"Random Forest\")\n",
    "#plt.xticks(np.arange(min(X), max(X)+1, 1))\n",
    "#plt.yticks(np.arange(min(y), max(y)+1, 50000))\n",
    "plt.title(\"Regression\")\n",
    "plt.xlabel(\"Position\")\n",
    "plt.ylabel(\"Salaries\")\n",
    "#plt.figure(figsize=(20,10))\n",
    "#fig = plt.gcf()\n",
    "#fig.set_size_inches(10.5, 10)\n",
    "plt.legend()    #Köşedeki kutucuğu oluşturmak için\n",
    "plt.show()"
   ]
  },
  {
   "cell_type": "code",
   "execution_count": 23,
   "metadata": {},
   "outputs": [
    {
     "name": "stdout",
     "output_type": "stream",
     "text": [
      "The predicted salary of a person at 6.5 Level with Linear Regression is  [330378.78787879]\n",
      "The predicted salary of a person at 6.5 Level with Polynomial Regression is  [158862.45265153]\n",
      "The predicted salary of a person at 6.5 Level with Support Vector Regression is  [170370.0204065]\n",
      "The predicted salary of a person at 6.5 Level with Decision Tree Regression is  [150000.]\n",
      "The predicted salary of a person at 6.5 Level with Random Forest Regression is  [160333.33333333]\n"
     ]
    }
   ],
   "source": [
    "#PREDICTIONS\n",
    "#The best resolution is from SVR\n",
    "print(\"The predicted salary of a person at 6.5 Level with Linear Regression is  [330378.78787879]\")\n",
    "print(\"The predicted salary of a person at 6.5 Level with Polynomial Regression is  [158862.45265153]\")\n",
    "print(\"The predicted salary of a person at 6.5 Level with Support Vector Regression is  [170370.0204065]\")\n",
    "print(\"The predicted salary of a person at 6.5 Level with Decision Tree Regression is  [150000.]\")\n",
    "print(\"The predicted salary of a person at 6.5 Level with Random Forest Regression is  [160333.33333333]\")\n",
    "      "
   ]
  },
  {
   "cell_type": "code",
   "execution_count": null,
   "metadata": {},
   "outputs": [],
   "source": []
  }
 ],
 "metadata": {
  "kernelspec": {
   "display_name": "Python 3",
   "language": "python",
   "name": "python3"
  },
  "language_info": {
   "codemirror_mode": {
    "name": "ipython",
    "version": 3
   },
   "file_extension": ".py",
   "mimetype": "text/x-python",
   "name": "python",
   "nbconvert_exporter": "python",
   "pygments_lexer": "ipython3",
   "version": "3.7.4"
  }
 },
 "nbformat": 4,
 "nbformat_minor": 2
}
