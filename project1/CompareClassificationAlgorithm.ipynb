{
 "cells": [
  {
   "cell_type": "code",
   "execution_count": 1,
   "metadata": {},
   "outputs": [],
   "source": [
    "# Step 1 - Load Data\n",
    "import pandas as pd\n",
    "dataset = pd.read_csv(\"/home/administrator/Downloads/DataSet/iphone_purchase_records.csv\")\n",
    "X = dataset.iloc[:,:-1].values\n",
    "y = dataset.iloc[:, 3].values"
   ]
  },
  {
   "cell_type": "code",
   "execution_count": 2,
   "metadata": {},
   "outputs": [],
   "source": [
    "# Step 2 - Convert Gender to number\n",
    "from sklearn.preprocessing import LabelEncoder\n",
    "labelEncoder_gender =  LabelEncoder()\n",
    "X[:,0] = labelEncoder_gender.fit_transform(X[:,0])"
   ]
  },
  {
   "cell_type": "code",
   "execution_count": 3,
   "metadata": {},
   "outputs": [],
   "source": [
    "# Step 3 - Feature Scaling\n",
    "from sklearn.preprocessing import StandardScaler\n",
    "sc = StandardScaler()\n",
    "X = sc.fit_transform(X)"
   ]
  },
  {
   "cell_type": "code",
   "execution_count": 4,
   "metadata": {},
   "outputs": [],
   "source": [
    "# Step 4 - Compare Classification Algorithms\n",
    "from sklearn.model_selection import KFold\n",
    "from sklearn.model_selection import cross_val_score\n",
    "from sklearn.linear_model import LogisticRegression\n",
    "from sklearn.tree import DecisionTreeClassifier\n",
    "from sklearn.neighbors import KNeighborsClassifier\n",
    "from sklearn.ensemble import RandomForestClassifier\n",
    "from sklearn.naive_bayes import GaussianNB\n",
    "from sklearn.svm import SVC"
   ]
  },
  {
   "cell_type": "code",
   "execution_count": 5,
   "metadata": {},
   "outputs": [],
   "source": [
    "classification_models = []\n",
    "classification_models.append(('Logistic Regression', LogisticRegression(solver=\"liblinear\")))\n",
    "classification_models.append(('K Nearest Neighbor', KNeighborsClassifier(n_neighbors=5, metric=\"minkowski\",p=2)))\n",
    "classification_models.append(('Kernel SVM', SVC(kernel = 'rbf',gamma='scale')))\n",
    "classification_models.append(('Naive Bayes', GaussianNB()))\n",
    "classification_models.append(('Decision Tree', DecisionTreeClassifier(criterion = \"entropy\")))\n",
    "classification_models.append(('Random Forest', RandomForestClassifier(n_estimators=100, criterion=\"entropy\")))"
   ]
  },
  {
   "cell_type": "code",
   "execution_count": 6,
   "metadata": {},
   "outputs": [
    {
     "name": "stdout",
     "output_type": "stream",
     "text": [
      "Logistic Regression: Mean Accuracy = 82.75% - SD Accuracy = 11.37%\n",
      "K Nearest Neighbor: Mean Accuracy = 90.50% - SD Accuracy = 7.73%\n",
      "Kernel SVM: Mean Accuracy = 90.75% - SD Accuracy = 9.15%\n",
      "Naive Bayes: Mean Accuracy = 85.25% - SD Accuracy = 10.34%\n",
      "Decision Tree: Mean Accuracy = 85.25% - SD Accuracy = 8.62%\n",
      "Random Forest: Mean Accuracy = 87.50% - SD Accuracy = 9.49%\n"
     ]
    }
   ],
   "source": [
    "for name, model in classification_models:\n",
    "  kfold = KFold(n_splits=10, random_state=7)\n",
    "  result = cross_val_score(model, X, y, cv=kfold, scoring='accuracy')\n",
    "  print(\"%s: Mean Accuracy = %.2f%% - SD Accuracy = %.2f%%\" % (name, result.mean()*100, result.std()*100))"
   ]
  },
  {
   "cell_type": "code",
   "execution_count": null,
   "metadata": {},
   "outputs": [],
   "source": []
  }
 ],
 "metadata": {
  "kernelspec": {
   "display_name": "Python 3",
   "language": "python",
   "name": "python3"
  },
  "language_info": {
   "codemirror_mode": {
    "name": "ipython",
    "version": 3
   },
   "file_extension": ".py",
   "mimetype": "text/x-python",
   "name": "python",
   "nbconvert_exporter": "python",
   "pygments_lexer": "ipython3",
   "version": "3.7.4"
  }
 },
 "nbformat": 4,
 "nbformat_minor": 2
}
